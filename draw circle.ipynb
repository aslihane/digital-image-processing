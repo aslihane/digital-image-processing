{
  "nbformat": 4,
  "nbformat_minor": 0,
  "metadata": {
    "colab": {
      "name": "Untitled25.ipynb",
      "provenance": []
    },
    "kernelspec": {
      "name": "python3",
      "display_name": "Python 3"
    },
    "language_info": {
      "name": "python"
    }
  },
  "cells": [
    {
      "cell_type": "markdown",
      "source": [
        "Generating an image (blue circle with red contour) with and without opencv"
      ],
      "metadata": {
        "id": "N2bkV_4xNpBG"
      }
    },
    {
      "cell_type": "code",
      "execution_count": 1,
      "metadata": {
        "id": "zk2pNmCRNYLi"
      },
      "outputs": [],
      "source": [
        "import cv2\n",
        "import numpy as np\n",
        "from google.colab.patches import cv2_imshow\n",
        "from matplotlib import pyplot as plt"
      ]
    },
    {
      "cell_type": "code",
      "source": [
        "image1 = np.full((200, 200, 3), 255, dtype = np.uint8)\n",
        "\n",
        "cv2.circle(img=image1, center = (100, 100), radius =75, color =(255, 0 ,0), thickness=-1)\n",
        "cv2.circle(img=image1, center = (100, 100), radius =75, color =(0, 0 ,255), thickness=10)\n",
        "\n",
        "cv2_imshow(image1)"
      ],
      "metadata": {
        "colab": {
          "base_uri": "https://localhost:8080/",
          "height": 217
        },
        "id": "CSrUCb3gNdWq",
        "outputId": "d7c112e2-c216-48fa-e337-833929e017e3"
      },
      "execution_count": 2,
      "outputs": [
        {
          "output_type": "display_data",
          "data": {
            "text/plain": [
              "<PIL.Image.Image image mode=RGB size=200x200 at 0x7F002DF526D0>"
            ],
            "image/png": "[encoded data removed]"
          },
          "metadata": {}
        }
      ]
    },
    {
      "cell_type": "code",
      "source": [
        "!sudo apt install imagemagick\n",
        "!pip install wand"
      ],
      "metadata": {
        "id": "AHUqSq_-NdcR"
      },
      "execution_count": null,
      "outputs": []
    },
    {
      "cell_type": "code",
      "source": [
        "from wand.image import Image\n",
        "from wand.drawing import Drawing\n",
        "from wand.color import Color\n",
        "  \n",
        "with Drawing() as draw:\n",
        "  \n",
        "    draw.stroke_color = Color('red')\n",
        "    draw.stroke_width = 10\n",
        "\n",
        "    draw.fill_color = Color('blue')\n",
        "    origin = (100, 100)\n",
        "    perimeter = (50, 50)\n",
        "\n",
        "    draw.circle(origin, perimeter) \n",
        "    with Image(width = 200,\n",
        "               height = 200,\n",
        "               background = Color('white')) as img:\n",
        "  \n",
        "        draw.draw(img)\n",
        "        img.save(filename ='circle.png')"
      ],
      "metadata": {
        "id": "dGzlPaf-Nj5Y"
      },
      "execution_count": 4,
      "outputs": []
    },
    {
      "cell_type": "code",
      "source": [
        "import IPython.display as display\n",
        "from PIL import Image\n",
        "display.display(Image.open('circle.png'))"
      ],
      "metadata": {
        "colab": {
          "base_uri": "https://localhost:8080/",
          "height": 217
        },
        "id": "d1uEIkNCNkwd",
        "outputId": "a2f3e602-bab7-42b1-a51b-8eb1b174e579"
      },
      "execution_count": 5,
      "outputs": [
        {
          "output_type": "display_data",
          "data": {
            "text/plain": [
              "<PIL.PngImagePlugin.PngImageFile image mode=RGBA size=200x200 at 0x7F002D887090>"
            ],
            "image/png": "[encoded data removed]"
          },
          "metadata": {}
        }
      ]
    },
    {
      "cell_type": "code",
      "source": [
        "from matplotlib import pyplot as plt\n",
        "\n",
        "figure, axes = plt.subplots()\n",
        "circle1 = plt.Circle(( 0.5 , 0.5 ), 0.4, color='red' )\n",
        "circle2 = plt.Circle(( 0.5 , 0.5 ), 0.35, color='blue' )\n",
        "\n",
        "axes.set_aspect( 1 )\n",
        "axes.add_artist(circle1)\n",
        "axes.add_artist(circle2)\n",
        "\n"
      ],
      "metadata": {
        "colab": {
          "base_uri": "https://localhost:8080/",
          "height": 286
        },
        "id": "zsxYZAchNmok",
        "outputId": "f54250fe-f377-40c2-9ddc-4358d57ac07b"
      },
      "execution_count": 6,
      "outputs": [
        {
          "output_type": "execute_result",
          "data": {
            "text/plain": [
              "<matplotlib.patches.Circle at 0x7f002b648310>"
            ]
          },
          "metadata": {},
          "execution_count": 6
        },
        {
          "output_type": "display_data",
          "data": {
            "text/plain": [
              "<Figure size 432x288 with 1 Axes>"
            ],
            "image/png": "[encoded data removed]"
          },
          "metadata": {
            "needs_background": "light"
          }
        }
      ]
    }
  ]
}